{
 "cells": [
  {
   "cell_type": "code",
   "execution_count": 1,
   "id": "6ef72451",
   "metadata": {},
   "outputs": [],
   "source": [
    "import random \n",
    "import cv2\n",
    "from PIL import Image\n",
    "import numpy as np\n",
    "from scipy.signal import wiener"
   ]
  },
  {
   "cell_type": "code",
   "execution_count": 2,
   "id": "bc8c3819",
   "metadata": {},
   "outputs": [
    {
     "name": "stdout",
     "output_type": "stream",
     "text": [
      "Введите долю p=0.11\n",
      "Введите долю q=0.23\n"
     ]
    },
    {
     "data": {
      "text/plain": [
       "True"
      ]
     },
     "execution_count": 2,
     "metadata": {},
     "output_type": "execute_result"
    }
   ],
   "source": [
    "# функция добавляющая шум к изображению ( соль и перец ) с коэффициентоим SNR\n",
    "def add_img_noise(img):\n",
    "    \n",
    "    width, height  = img.shape\n",
    "    \n",
    "    #количество пикселей, к которым добавляется шум\n",
    "    \n",
    "    p_salt=float(input(\"Введите долю p=\"))\n",
    "    \n",
    "    q_pepper=float(input(\"Введите долю q=\"))\n",
    "    \n",
    "\n",
    "    # находим кол-во пикселей\n",
    "    \n",
    "    snr_number=int(width*height)\n",
    "    \n",
    "    number_pepper=int(width*height*q_pepper)\n",
    "    \n",
    "    number_salt=int(width*height*p_salt)\n",
    "    \n",
    "    \n",
    "    # добавялем шум-соль:\n",
    "    for i in range(1, number_salt):\n",
    "        \n",
    "        \n",
    "        \n",
    "        y_random=random.randint(0,width-1)  \n",
    "        \n",
    "        \n",
    "        \n",
    "        x_random=random.randint(0,height-1)\n",
    "        \n",
    "        img[y_random][x_random]=255\n",
    "        \n",
    "        \n",
    "    # добавляем шум-перец\n",
    "    \n",
    "    for i in range(1,number_pepper):\n",
    "        \n",
    "        y_random=random.randint(0,width-1)\n",
    "        \n",
    "        x_random-random.randint(0,height)\n",
    "        \n",
    "        img[y_random][x_random]=0\n",
    "        \n",
    "        return img\n",
    "        \n",
    "\n",
    "img = cv2.imread(\"Img.jpg\", cv2.IMREAD_GRAYSCALE)\n",
    "\n",
    "cv2.imwrite(\"Img_begin.jpg\",img)\n",
    "  \n",
    "#Storing the image\n",
    "img_noise=add_img_noise(img)\n",
    "  \n",
    "#Storing the image\n",
    "cv2.imwrite(\"Img_noise.jpg\", img_noise)\n"
   ]
  },
  {
   "cell_type": "code",
   "execution_count": 3,
   "id": "20890f80",
   "metadata": {},
   "outputs": [
    {
     "name": "stderr",
     "output_type": "stream",
     "text": [
      "C:\\Users\\lutfu\\anaconda3\\lib\\site-packages\\scipy\\signal\\signaltools.py:1611: RuntimeWarning: divide by zero encountered in true_divide\n",
      "  res *= (1 - noise / lVar)\n",
      "C:\\Users\\lutfu\\anaconda3\\lib\\site-packages\\scipy\\signal\\signaltools.py:1611: RuntimeWarning: invalid value encountered in multiply\n",
      "  res *= (1 - noise / lVar)\n"
     ]
    },
    {
     "data": {
      "text/plain": [
       "True"
      ]
     },
     "execution_count": 3,
     "metadata": {},
     "output_type": "execute_result"
    }
   ],
   "source": [
    "# фильтр Винера \n",
    "filtered_img = wiener(img_noise, [5,5], 4)\n",
    "\n",
    "#filtered_img=Image.fromarray(filtered_img)\n",
    "\n",
    "cv2.imwrite(\"Img_filter_wiener.jpg\", filtered_img)\n",
    "\n",
    "\n",
    "#cv2.imshow('Pepandalt', filtered_img)"
   ]
  },
  {
   "cell_type": "code",
   "execution_count": 4,
   "id": "15b8d10e",
   "metadata": {},
   "outputs": [
    {
     "data": {
      "text/plain": [
       "True"
      ]
     },
     "execution_count": 4,
     "metadata": {},
     "output_type": "execute_result"
    }
   ],
   "source": [
    "filtered_img_two = wiener(filtered_img, [5,5], 0.4)\n",
    "\n",
    "cv2.imwrite(\"Img_filter_wiene_twortr.jpg\", filtered_img_two)"
   ]
  },
  {
   "cell_type": "code",
   "execution_count": null,
   "id": "53644d00",
   "metadata": {},
   "outputs": [],
   "source": []
  },
  {
   "cell_type": "code",
   "execution_count": null,
   "id": "e519bac4",
   "metadata": {},
   "outputs": [],
   "source": []
  }
 ],
 "metadata": {
  "kernelspec": {
   "display_name": "Python 3 (ipykernel)",
   "language": "python",
   "name": "python3"
  },
  "language_info": {
   "codemirror_mode": {
    "name": "ipython",
    "version": 3
   },
   "file_extension": ".py",
   "mimetype": "text/x-python",
   "name": "python",
   "nbconvert_exporter": "python",
   "pygments_lexer": "ipython3",
   "version": "3.9.7"
  }
 },
 "nbformat": 4,
 "nbformat_minor": 5
}
