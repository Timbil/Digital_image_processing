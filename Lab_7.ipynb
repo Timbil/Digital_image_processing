{
 "cells": [
  {
   "cell_type": "markdown",
   "id": "c097d738",
   "metadata": {},
   "source": [
    "# Построение фигуры Коха и подсчет фрактальной размерности "
   ]
  },
  {
   "cell_type": "code",
   "execution_count": 1,
   "id": "5f6d10b8",
   "metadata": {},
   "outputs": [],
   "source": [
    "import turtle\n",
    "import imageio\n",
    "import numpy as np"
   ]
  },
  {
   "cell_type": "code",
   "execution_count": 2,
   "id": "0cf63ec7",
   "metadata": {},
   "outputs": [
    {
     "name": "stdout",
     "output_type": "stream",
     "text": [
      "Введите size=300\n",
      "Введите n=3\n"
     ]
    }
   ],
   "source": [
    "# модуль черепашки.\n",
    "# функция для построения кривой Кохи - Снежинки Коха. \n",
    "\n",
    "size = int(input(\"Введите size=\"))\n",
    "n=int(input(\"Введите n=\"))\n",
    " \n",
    "def koch_curve(size, n):\n",
    "    \n",
    "    \n",
    "    if n == 0:\n",
    "        turtle.pencolor('red')\n",
    "        turtle.forward(size)\n",
    "    else:\n",
    "        \n",
    "        turtle.pencolor('red')\n",
    "        \n",
    "        koch_curve(size / 3, n - 1)\n",
    "        turtle.left(60)\n",
    "        koch_curve(size / 3, n - 1)\n",
    "        turtle.right(120)\n",
    "        koch_curve(size / 3, n - 1)\n",
    "        turtle.left(60)\n",
    "        koch_curve(size / 3, n - 1)\n",
    "turtle.speed(0)\n",
    "\n",
    " \n",
    " \n",
    "def draw_koch_snowflake(size, n):\n",
    "    for i in range(3):\n",
    "        koch_curve(size, n)\n",
    "        turtle.right(120)\n",
    "        \n",
    "draw_koch_snowflake(size, n)"
   ]
  },
  {
   "cell_type": "markdown",
   "id": "4a3235e5",
   "metadata": {},
   "source": [
    "##  Подсчет фрактальной размерности по покрытию\n",
    "\n",
    "В фрактальной геометрии измерение Минковского–Булигана, также известное как измерение Минковского или измерение подсчета ящиков, является способом определения фрактальной размерности множества S в евклидовом пространстве $R^n$ или, в более общем смысле, в метрическом пространстве (X, d). \n",
    "\n",
    "Чтобы вычислить это измерение для фрактала S, представьте этот фрактал, лежащий на равномерно распределенной сетке, и подсчитайте, сколько ящиков требуется для покрытия множества. Измерение подсчета ящиков вычисляется путем наблюдения за тем, как это число изменяется, когда мы делаем сетку более тонкой, применяя алгоритм подсчета ящиков.\n",
    "\n",
    "Предположим, что N(ε) - это количество коробок длины стороны ε, необходимых для покрытия множества. Тогда измерение подсчета ящиков определяется как:\n",
    "\n",
    "$$ dim_{bos}(S):= \\lim\\limits_{\\varepsilon\\to 0} \\frac{logN(\\varepsilon)}{log(1 /\\varepsilon)}$$\n",
    "\n",
    "Можно определить размеры коробки, используя шары, с номером покрытия или номером упаковки. Число покрытия ${\\displaystyle N_{\\text{covering}}(\\varepsilon )} $-это минимальное количество открытых шаров радиуса ε, необходимое для покрытия фрактала, или, другими словами, такое, что их объединение содержит фрактал. \n"
   ]
  },
  {
   "cell_type": "code",
   "execution_count": 3,
   "id": "31f35b02",
   "metadata": {},
   "outputs": [
    {
     "name": "stdout",
     "output_type": "stream",
     "text": [
      "Размерность Минковского–Булигана (вычисленная):  1.1978672972101336\n",
      "Размерность Хаусдорфа (теоретическая):         1.2618595071429148\n",
      "Относительная ошибка:  19.786729721013362 %\n"
     ]
    }
   ],
   "source": [
    "# -----------------------------------------------------------------------------------------------------------------------\n",
    "# The author of this piece of code: https://github.com/ErikRZH/Fractal-Dimension/blob/master/fractal-dimension.py\n",
    "# -----------------------------------------------------------------------------------------------------------------------\n",
    "# функция для подсчета фрактальной размерности \n",
    "\n",
    "def fractal_dimension(Z, threshold=0.8):\n",
    "\n",
    "    assert(len(Z.shape) == 2)\n",
    "\n",
    "    def boxcount(Z, k):\n",
    "        S = np.add.reduceat(\n",
    "            np.add.reduceat(Z, np.arange(0, Z.shape[0], k), axis=0),\n",
    "                               np.arange(0, Z.shape[1], k), axis=1)\n",
    "        \n",
    "        return len(np.where((S > 0) & (S < k*k))[0])\n",
    "\n",
    "\n",
    "    Z = (Z < threshold)\n",
    "\n",
    "   \n",
    "    p = min(Z.shape)\n",
    "\n",
    "   \n",
    "    n = 2**np.floor(np.log(p)/np.log(2))\n",
    "\n",
    "    \n",
    "    n = int(np.log(n)/np.log(2))\n",
    "\n",
    "    sizes = 2**np.arange(n, 1, -1)\n",
    "\n",
    "   \n",
    "    counts = []\n",
    "    for size in sizes:\n",
    "        counts.append(boxcount(Z, size))\n",
    "\n",
    "    \n",
    "    coeffs = np.polyfit(np.log(sizes), np.log(counts), 1)\n",
    "    return -coeffs[0]\n",
    "\n",
    "I = imageio.imread(\"Koha.png\", as_gray=\"True\")/255.0    # Import the image in greyscale\n",
    "print(\"Размерность Минковского–Булигана (вычисленная): \", fractal_dimension(I))\n",
    "print(\"Размерность Хаусдорфа (теоретическая):        \", (np.log(4)/np.log(3)))\n",
    "print(\"Относительная ошибка: \",(fractal_dimension(I)- (np.log(4)/np.log(3))/(np.log(4)/np.log(3)) )*100,\"%\" ) "
   ]
  }
 ],
 "metadata": {
  "kernelspec": {
   "display_name": "Python 3 (ipykernel)",
   "language": "python",
   "name": "python3"
  },
  "language_info": {
   "codemirror_mode": {
    "name": "ipython",
    "version": 3
   },
   "file_extension": ".py",
   "mimetype": "text/x-python",
   "name": "python",
   "nbconvert_exporter": "python",
   "pygments_lexer": "ipython3",
   "version": "3.9.7"
  }
 },
 "nbformat": 4,
 "nbformat_minor": 5
}
